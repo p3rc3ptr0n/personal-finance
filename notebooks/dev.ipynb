{
 "cells": [
  {
   "cell_type": "code",
   "execution_count": 9,
   "metadata": {},
   "outputs": [],
   "source": [
    "import sys\n",
    "\n",
    "sys.path.append(\"..\")\n",
    "import pf.io as io"
   ]
  },
  {
   "cell_type": "code",
   "execution_count": 20,
   "metadata": {},
   "outputs": [
    {
     "name": "stdout",
     "output_type": "stream",
     "text": [
      "(422, 4)\n"
     ]
    }
   ],
   "source": [
    "big_table = io.read_directory_and_concatenate_tables(\"../data\")\n",
    "big_table.dropna(axis=0, inplace=True)\n",
    "\n",
    "print(big_table.shape)"
   ]
  },
  {
   "cell_type": "code",
   "execution_count": 26,
   "metadata": {},
   "outputs": [
    {
     "data": {
      "text/plain": [
       "np.float64(1881.75)"
      ]
     },
     "execution_count": 26,
     "metadata": {},
     "output_type": "execute_result"
    }
   ],
   "source": [
    "big_table[\n",
    "    big_table[\"Description\"].str.contains(\"cosmetics\", case=False)\n",
    "    | big_table[\"Description\"].str.contains(\"makeup\", case=False)\n",
    "][\"Amount\"].sum()"
   ]
  },
  {
   "cell_type": "code",
   "execution_count": 17,
   "metadata": {},
   "outputs": [
    {
     "data": {
      "text/plain": [
       "8"
      ]
     },
     "execution_count": 17,
     "metadata": {},
     "output_type": "execute_result"
    }
   ],
   "source": [
    "sum(big_table[\"Description\"].str.contains(\"konrad\", case=False).isna())"
   ]
  }
 ],
 "metadata": {
  "kernelspec": {
   "display_name": "personal-finance-b4moeELl-py3.12",
   "language": "python",
   "name": "python3"
  },
  "language_info": {
   "codemirror_mode": {
    "name": "ipython",
    "version": 3
   },
   "file_extension": ".py",
   "mimetype": "text/x-python",
   "name": "python",
   "nbconvert_exporter": "python",
   "pygments_lexer": "ipython3",
   "version": "3.12.2"
  }
 },
 "nbformat": 4,
 "nbformat_minor": 2
}
